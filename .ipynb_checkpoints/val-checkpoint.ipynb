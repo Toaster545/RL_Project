{
 "cells": [
  {
   "cell_type": "code",
   "execution_count": null,
   "id": "6d67c0b4-a822-4c93-9e98-17674e18acc3",
   "metadata": {},
   "outputs": [],
   "source": []
  },
  {
   "cell_type": "code",
   "execution_count": null,
   "id": "25e2c837-cae9-44b6-b9c2-6116f2a518f2",
   "metadata": {},
   "outputs": [],
   "source": []
  },
  {
   "cell_type": "code",
   "execution_count": null,
   "id": "8453bb4a-93c1-4c14-90ba-72940797cffe",
   "metadata": {},
   "outputs": [],
   "source": []
  },
  {
   "cell_type": "code",
   "execution_count": null,
   "id": "4fb51e0c-ab70-4859-b98f-e11c95fc135f",
   "metadata": {},
   "outputs": [],
   "source": []
  },
  {
   "cell_type": "code",
   "execution_count": null,
   "id": "34b55b9f-8baf-4a6d-810c-03c2018acf9d",
   "metadata": {},
   "outputs": [],
   "source": [
    "from grid2op.Runner import Runner\n",
    "from grid2op.Agent import DoNothingAgent, TopologyGreedy, PowerLineSwitch, RandomAgent\n",
    "from agent_wrapper import Grid2opAgentWrapper\n",
    "\n",
    "\n",
    "# Create test environnement\n",
    "test_env_config = env_config.copy()\n",
    "test_env_config[\"data_set\"] = \"test\"\n",
    "test_env = Grid2opEnvWrapper(test_env_config)\n",
    "\n",
    "# Testing parameters\n",
    "nb_episode_test = 50\n",
    "seeds_test_env = tuple(range(nb_episode_test))  # Seeds for the environment\n",
    "seeds_test_agent = tuple(range(nb_episode_test))  # Seeds for the agent\n",
    "\n",
    "# Trained agents\n",
    "for algo in algorithms:\n",
    "    # Define the model path and tensorboard log name dynamically\n",
    "    model_name, model_path, _ =  fpath(algo,prefix)\n",
    "\n",
    "    # Load the trained model\n",
    "    sb3_algo_to_test = algo.load(model_path+'/'+model_name, env=test_env)\n",
    "\n",
    "    # Convert to grid2op agent\n",
    "    my_agent = Grid2opAgentWrapper(test_env, sb3_algo_to_test)\n",
    "\n",
    "    runner = Runner(**test_env._g2op_env.get_params_for_runner(),\n",
    "                    agentClass=None,\n",
    "                    agentInstance=my_agent)\n",
    "\n",
    "    res = runner.run(nb_episode=nb_episode_test,\n",
    "                    env_seeds=seeds_test_env,\n",
    "                    agent_seeds=seeds_test_agent,\n",
    "                    # episode_id=ts_ep_test,\n",
    "                    add_detailed_output=True,\n",
    "                    path_save=model_path+\"/test\"\n",
    "                    )\n",
    "\n",
    "# Baseline agents:\n",
    "baseline_agents= [RandomAgent,DoNothingAgent]\n",
    "for baseline_agent in baseline_agents : \n",
    "    \n",
    "    model_name, model_path, _ =  fpath(baseline_agent,prefix)\n",
    "    \n",
    "    runner = Runner(**test_env._g2op_env.get_params_for_runner(),\n",
    "                agentClass=baseline_agent)\n",
    "\n",
    "    res = runner.run(nb_episode=nb_episode_test,\n",
    "                 env_seeds=seeds_test_env,\n",
    "                 agent_seeds=seeds_test_agent,\n",
    "                 # episode_id=ts_ep_test,\n",
    "                 add_detailed_output=True,\n",
    "                 path_save=model_path\n",
    "                 )"
   ]
  }
 ],
 "metadata": {
  "kernelspec": {
   "display_name": "Python 3 (ipykernel)",
   "language": "python",
   "name": "python3"
  },
  "language_info": {
   "codemirror_mode": {
    "name": "ipython",
    "version": 3
   },
   "file_extension": ".py",
   "mimetype": "text/x-python",
   "name": "python",
   "nbconvert_exporter": "python",
   "pygments_lexer": "ipython3",
   "version": "3.10.4"
  }
 },
 "nbformat": 4,
 "nbformat_minor": 5
}
